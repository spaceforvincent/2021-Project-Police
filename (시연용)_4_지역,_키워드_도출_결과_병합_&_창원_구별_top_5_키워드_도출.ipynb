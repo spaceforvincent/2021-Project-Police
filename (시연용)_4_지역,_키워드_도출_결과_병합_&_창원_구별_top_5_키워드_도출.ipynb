{
  "nbformat": 4,
  "nbformat_minor": 0,
  "metadata": {
    "colab": {
      "name": "(시연용) 3. 지역, 키워드 도출 결과 병합 & 창원 구별 top 5 키워드 도출.ipynb",
      "provenance": [],
      "collapsed_sections": []
    },
    "kernelspec": {
      "name": "python3",
      "display_name": "Python 3"
    },
    "language_info": {
      "name": "python"
    }
  },
  "cells": [
    {
      "cell_type": "markdown",
      "metadata": {
        "id": "UpY_geLfjETr"
      },
      "source": [
        "# 최혁주\n",
        "## 지역, 키워드 도출 결과 병합 & 창원 구별 top 5 키워드 도출"
      ]
    },
    {
      "cell_type": "code",
      "metadata": {
        "colab": {
          "base_uri": "https://localhost:8080/",
          "height": 204
        },
        "id": "Dt5a6qslna4u",
        "outputId": "032e7bb8-0638-49f1-ee7d-e4828bccdfa1"
      },
      "source": [
        "#키워드 도출 결과 불러오기\n",
        "keyword = pd.read_csv('키워드도출결과.csv')\n",
        "keyword.head()"
      ],
      "execution_count": null,
      "outputs": [
        {
          "output_type": "execute_result",
          "data": {
            "text/html": [
              "<div>\n",
              "<style scoped>\n",
              "    .dataframe tbody tr th:only-of-type {\n",
              "        vertical-align: middle;\n",
              "    }\n",
              "\n",
              "    .dataframe tbody tr th {\n",
              "        vertical-align: top;\n",
              "    }\n",
              "\n",
              "    .dataframe thead th {\n",
              "        text-align: right;\n",
              "    }\n",
              "</style>\n",
              "<table border=\"1\" class=\"dataframe\">\n",
              "  <thead>\n",
              "    <tr style=\"text-align: right;\">\n",
              "      <th></th>\n",
              "      <th>기사내용</th>\n",
              "      <th>keyword</th>\n",
              "    </tr>\n",
              "  </thead>\n",
              "  <tbody>\n",
              "    <tr>\n",
              "      <th>0</th>\n",
              "      <td>[최근 창원시 가음정동에 차려진 선별진료소에서 시민들이 검사받고 있다., [아시아경...</td>\n",
              "      <td>['아시아 경제', '병원 관련', '코로나 19', '검사 받', '도내 코로나'...</td>\n",
              "    </tr>\n",
              "    <tr>\n",
              "      <th>1</th>\n",
              "      <td>[[이미지출처=연합뉴스], [아시아경제 오현길 기자] 21일 전국에 강풍을 동반한 ...</td>\n",
              "      <td>['소방 당국', '아시아 경제', '건물 지하']</td>\n",
              "    </tr>\n",
              "    <tr>\n",
              "      <th>2</th>\n",
              "      <td>[아슬아슬한 공장 건물. 많은 비와 강풍이 몰아친 21일 오후 1시 47분께 경남 ...</td>\n",
              "      <td>['아시아 경제', '배수 장', '길 공단', '굴 다리', '도로 침수', '시...</td>\n",
              "    </tr>\n",
              "    <tr>\n",
              "      <th>3</th>\n",
              "      <td>[경남 양산 옹벽 붕괴 현장. [사진=경남소방본부 제공], [아시아경제 영남취재본부...</td>\n",
              "      <td>['선별 검사소', '임시 선별', '소방 당국', '운동장 상당', '호우 경보'...</td>\n",
              "    </tr>\n",
              "    <tr>\n",
              "      <th>4</th>\n",
              "      <td>[더불어민주당 대선 예비후보인 이재명 경기도지사 [이미지출처=연합뉴스], [아시아경...</td>\n",
              "      <td>['센터 화재', '대선 예비', '아시아 경제', '더불어민주당 대선', '화재 ...</td>\n",
              "    </tr>\n",
              "  </tbody>\n",
              "</table>\n",
              "</div>"
            ],
            "text/plain": [
              "                                                기사내용                                            keyword\n",
              "0  [최근 창원시 가음정동에 차려진 선별진료소에서 시민들이 검사받고 있다., [아시아경...  ['아시아 경제', '병원 관련', '코로나 19', '검사 받', '도내 코로나'...\n",
              "1  [[이미지출처=연합뉴스], [아시아경제 오현길 기자] 21일 전국에 강풍을 동반한 ...                       ['소방 당국', '아시아 경제', '건물 지하']\n",
              "2  [아슬아슬한 공장 건물. 많은 비와 강풍이 몰아친 21일 오후 1시 47분께 경남 ...  ['아시아 경제', '배수 장', '길 공단', '굴 다리', '도로 침수', '시...\n",
              "3  [경남 양산 옹벽 붕괴 현장. [사진=경남소방본부 제공], [아시아경제 영남취재본부...  ['선별 검사소', '임시 선별', '소방 당국', '운동장 상당', '호우 경보'...\n",
              "4  [더불어민주당 대선 예비후보인 이재명 경기도지사 [이미지출처=연합뉴스], [아시아경...  ['센터 화재', '대선 예비', '아시아 경제', '더불어민주당 대선', '화재 ..."
            ]
          },
          "metadata": {},
          "execution_count": 2
        }
      ]
    },
    {
      "cell_type": "code",
      "metadata": {
        "colab": {
          "base_uri": "https://localhost:8080/",
          "height": 204
        },
        "id": "pssnr0eLnpVi",
        "outputId": "2be076cb-eff4-469b-d6ae-255135607102"
      },
      "source": [
        "#지역 도출결과 불러오기\n",
        "region = pd.read_csv('지역도출결과.csv')\n",
        "region.head()"
      ],
      "execution_count": null,
      "outputs": [
        {
          "output_type": "execute_result",
          "data": {
            "text/html": [
              "<div>\n",
              "<style scoped>\n",
              "    .dataframe tbody tr th:only-of-type {\n",
              "        vertical-align: middle;\n",
              "    }\n",
              "\n",
              "    .dataframe tbody tr th {\n",
              "        vertical-align: top;\n",
              "    }\n",
              "\n",
              "    .dataframe thead th {\n",
              "        text-align: right;\n",
              "    }\n",
              "</style>\n",
              "<table border=\"1\" class=\"dataframe\">\n",
              "  <thead>\n",
              "    <tr style=\"text-align: right;\">\n",
              "      <th></th>\n",
              "      <th>기사내용</th>\n",
              "      <th>지역분류</th>\n",
              "    </tr>\n",
              "  </thead>\n",
              "  <tbody>\n",
              "    <tr>\n",
              "      <th>0</th>\n",
              "      <td>[최근 창원시 가음정동에 차려진 선별진료소에서 시민들이 검사받고 있다., [아시아경...</td>\n",
              "      <td>[김해, 의령]</td>\n",
              "    </tr>\n",
              "    <tr>\n",
              "      <th>1</th>\n",
              "      <td>[[이미지출처=연합뉴스], [아시아경제 오현길 기자] 21일 전국에 강풍을 동반한 ...</td>\n",
              "      <td>[남해, 양산시, 의창구]</td>\n",
              "    </tr>\n",
              "    <tr>\n",
              "      <th>2</th>\n",
              "      <td>[아슬아슬한 공장 건물. 많은 비와 강풍이 몰아친 21일 오후 1시 47분께 경남 ...</td>\n",
              "      <td>[의령, 양산, 밀양, 거제, 남해, 산청, 양산시, 통영, 사천, 창녕, 고성군,...</td>\n",
              "    </tr>\n",
              "    <tr>\n",
              "      <th>3</th>\n",
              "      <td>[경남 양산 옹벽 붕괴 현장. [사진=경남소방본부 제공], [아시아경제 영남취재본부...</td>\n",
              "      <td>[김해, 양산, 김해시, 산청, 양산시, 의창구, 하동, 성산구, 고성군, 진주]</td>\n",
              "    </tr>\n",
              "    <tr>\n",
              "      <th>4</th>\n",
              "      <td>[더불어민주당 대선 예비후보인 이재명 경기도지사 [이미지출처=연합뉴스], [아시아경...</td>\n",
              "      <td>[고성군]</td>\n",
              "    </tr>\n",
              "  </tbody>\n",
              "</table>\n",
              "</div>"
            ],
            "text/plain": [
              "                                                기사내용                                               지역분류\n",
              "0  [최근 창원시 가음정동에 차려진 선별진료소에서 시민들이 검사받고 있다., [아시아경...                                           [김해, 의령]\n",
              "1  [[이미지출처=연합뉴스], [아시아경제 오현길 기자] 21일 전국에 강풍을 동반한 ...                                     [남해, 양산시, 의창구]\n",
              "2  [아슬아슬한 공장 건물. 많은 비와 강풍이 몰아친 21일 오후 1시 47분께 경남 ...  [의령, 양산, 밀양, 거제, 남해, 산청, 양산시, 통영, 사천, 창녕, 고성군,...\n",
              "3  [경남 양산 옹벽 붕괴 현장. [사진=경남소방본부 제공], [아시아경제 영남취재본부...      [김해, 양산, 김해시, 산청, 양산시, 의창구, 하동, 성산구, 고성군, 진주]\n",
              "4  [더불어민주당 대선 예비후보인 이재명 경기도지사 [이미지출처=연합뉴스], [아시아경...                                              [고성군]"
            ]
          },
          "metadata": {},
          "execution_count": 8
        }
      ]
    },
    {
      "cell_type": "code",
      "metadata": {
        "colab": {
          "base_uri": "https://localhost:8080/",
          "height": 204
        },
        "id": "n5QKf45coGcF",
        "outputId": "bb3c01e8-d220-4a2c-fc9a-5f75ed17bf0a"
      },
      "source": [
        "#기사내용을 key로 해서 Inner Join(region + keyword)\n",
        "keywordregion = pd.merge(region, keyword, left_on='기사내용', right_on='기사내용', how='inner')\n",
        "keywordregion.head()"
      ],
      "execution_count": null,
      "outputs": [
        {
          "output_type": "execute_result",
          "data": {
            "text/html": [
              "<div>\n",
              "<style scoped>\n",
              "    .dataframe tbody tr th:only-of-type {\n",
              "        vertical-align: middle;\n",
              "    }\n",
              "\n",
              "    .dataframe tbody tr th {\n",
              "        vertical-align: top;\n",
              "    }\n",
              "\n",
              "    .dataframe thead th {\n",
              "        text-align: right;\n",
              "    }\n",
              "</style>\n",
              "<table border=\"1\" class=\"dataframe\">\n",
              "  <thead>\n",
              "    <tr style=\"text-align: right;\">\n",
              "      <th></th>\n",
              "      <th>기사내용</th>\n",
              "      <th>지역분류</th>\n",
              "      <th>keyword</th>\n",
              "    </tr>\n",
              "  </thead>\n",
              "  <tbody>\n",
              "    <tr>\n",
              "      <th>0</th>\n",
              "      <td>[최근 창원시 가음정동에 차려진 선별진료소에서 시민들이 검사받고 있다., [아시아경...</td>\n",
              "      <td>[김해, 의령]</td>\n",
              "      <td>[아시아 경제, 병원 관련, 코로나 19, 검사 받, 도내 코로나, 관련 확진, 1...</td>\n",
              "    </tr>\n",
              "    <tr>\n",
              "      <th>1</th>\n",
              "      <td>[[이미지출처=연합뉴스], [아시아경제 오현길 기자] 21일 전국에 강풍을 동반한 ...</td>\n",
              "      <td>[남해, 양산시, 의창구]</td>\n",
              "      <td>[소방 당국, 아시아 경제, 건물 지하]</td>\n",
              "    </tr>\n",
              "    <tr>\n",
              "      <th>2</th>\n",
              "      <td>[아슬아슬한 공장 건물. 많은 비와 강풍이 몰아친 21일 오후 1시 47분께 경남 ...</td>\n",
              "      <td>[의령, 양산, 밀양, 거제, 남해, 산청, 양산시, 통영, 사천, 창녕, 고성군,...</td>\n",
              "      <td>[아시아 경제, 배수 장, 길 공단, 굴 다리, 도로 침수, 시장 굴, 장 굴, 공...</td>\n",
              "    </tr>\n",
              "    <tr>\n",
              "      <th>3</th>\n",
              "      <td>[경남 양산 옹벽 붕괴 현장. [사진=경남소방본부 제공], [아시아경제 영남취재본부...</td>\n",
              "      <td>[김해, 양산, 김해시, 산청, 양산시, 의창구, 하동, 성산구, 고성군, 진주]</td>\n",
              "      <td>[선별 검사소, 임시 선별, 소방 당국, 운동장 상당, 호우 경보, 검사소 운영, ...</td>\n",
              "    </tr>\n",
              "    <tr>\n",
              "      <th>4</th>\n",
              "      <td>[더불어민주당 대선 예비후보인 이재명 경기도지사 [이미지출처=연합뉴스], [아시아경...</td>\n",
              "      <td>[고성군]</td>\n",
              "      <td>[센터 화재, 대선 예비, 아시아 경제, 더불어민주당 대선, 화재 당시, 이재명 경...</td>\n",
              "    </tr>\n",
              "  </tbody>\n",
              "</table>\n",
              "</div>"
            ],
            "text/plain": [
              "                                                기사내용  ...                                            keyword\n",
              "0  [최근 창원시 가음정동에 차려진 선별진료소에서 시민들이 검사받고 있다., [아시아경...  ...  [아시아 경제, 병원 관련, 코로나 19, 검사 받, 도내 코로나, 관련 확진, 1...\n",
              "1  [[이미지출처=연합뉴스], [아시아경제 오현길 기자] 21일 전국에 강풍을 동반한 ...  ...                             [소방 당국, 아시아 경제, 건물 지하]\n",
              "2  [아슬아슬한 공장 건물. 많은 비와 강풍이 몰아친 21일 오후 1시 47분께 경남 ...  ...  [아시아 경제, 배수 장, 길 공단, 굴 다리, 도로 침수, 시장 굴, 장 굴, 공...\n",
              "3  [경남 양산 옹벽 붕괴 현장. [사진=경남소방본부 제공], [아시아경제 영남취재본부...  ...  [선별 검사소, 임시 선별, 소방 당국, 운동장 상당, 호우 경보, 검사소 운영, ...\n",
              "4  [더불어민주당 대선 예비후보인 이재명 경기도지사 [이미지출처=연합뉴스], [아시아경...  ...  [센터 화재, 대선 예비, 아시아 경제, 더불어민주당 대선, 화재 당시, 이재명 경...\n",
              "\n",
              "[5 rows x 3 columns]"
            ]
          },
          "metadata": {},
          "execution_count": 11
        }
      ]
    },
    {
      "cell_type": "code",
      "metadata": {
        "colab": {
          "base_uri": "https://localhost:8080/",
          "height": 204
        },
        "id": "0bgwrmq8oUQ6",
        "outputId": "bd19be0e-283d-45de-e8f5-6d1b27b54080"
      },
      "source": [
        "#지역별로 기사 할당하기 위해 explode 함수 사용\n",
        "explode = keywordregion.explode('지역분류')\n",
        "explode.head()"
      ],
      "execution_count": null,
      "outputs": [
        {
          "output_type": "execute_result",
          "data": {
            "text/html": [
              "<div>\n",
              "<style scoped>\n",
              "    .dataframe tbody tr th:only-of-type {\n",
              "        vertical-align: middle;\n",
              "    }\n",
              "\n",
              "    .dataframe tbody tr th {\n",
              "        vertical-align: top;\n",
              "    }\n",
              "\n",
              "    .dataframe thead th {\n",
              "        text-align: right;\n",
              "    }\n",
              "</style>\n",
              "<table border=\"1\" class=\"dataframe\">\n",
              "  <thead>\n",
              "    <tr style=\"text-align: right;\">\n",
              "      <th></th>\n",
              "      <th>기사내용</th>\n",
              "      <th>지역분류</th>\n",
              "      <th>keyword</th>\n",
              "    </tr>\n",
              "  </thead>\n",
              "  <tbody>\n",
              "    <tr>\n",
              "      <th>0</th>\n",
              "      <td>[최근 창원시 가음정동에 차려진 선별진료소에서 시민들이 검사받고 있다., [아시아경...</td>\n",
              "      <td>김해</td>\n",
              "      <td>[아시아 경제, 병원 관련, 코로나 19, 검사 받, 도내 코로나, 관련 확진, 1...</td>\n",
              "    </tr>\n",
              "    <tr>\n",
              "      <th>0</th>\n",
              "      <td>[최근 창원시 가음정동에 차려진 선별진료소에서 시민들이 검사받고 있다., [아시아경...</td>\n",
              "      <td>의령</td>\n",
              "      <td>[아시아 경제, 병원 관련, 코로나 19, 검사 받, 도내 코로나, 관련 확진, 1...</td>\n",
              "    </tr>\n",
              "    <tr>\n",
              "      <th>1</th>\n",
              "      <td>[[이미지출처=연합뉴스], [아시아경제 오현길 기자] 21일 전국에 강풍을 동반한 ...</td>\n",
              "      <td>남해</td>\n",
              "      <td>[소방 당국, 아시아 경제, 건물 지하]</td>\n",
              "    </tr>\n",
              "    <tr>\n",
              "      <th>1</th>\n",
              "      <td>[[이미지출처=연합뉴스], [아시아경제 오현길 기자] 21일 전국에 강풍을 동반한 ...</td>\n",
              "      <td>양산시</td>\n",
              "      <td>[소방 당국, 아시아 경제, 건물 지하]</td>\n",
              "    </tr>\n",
              "    <tr>\n",
              "      <th>1</th>\n",
              "      <td>[[이미지출처=연합뉴스], [아시아경제 오현길 기자] 21일 전국에 강풍을 동반한 ...</td>\n",
              "      <td>의창구</td>\n",
              "      <td>[소방 당국, 아시아 경제, 건물 지하]</td>\n",
              "    </tr>\n",
              "  </tbody>\n",
              "</table>\n",
              "</div>"
            ],
            "text/plain": [
              "                                                기사내용  ...                                            keyword\n",
              "0  [최근 창원시 가음정동에 차려진 선별진료소에서 시민들이 검사받고 있다., [아시아경...  ...  [아시아 경제, 병원 관련, 코로나 19, 검사 받, 도내 코로나, 관련 확진, 1...\n",
              "0  [최근 창원시 가음정동에 차려진 선별진료소에서 시민들이 검사받고 있다., [아시아경...  ...  [아시아 경제, 병원 관련, 코로나 19, 검사 받, 도내 코로나, 관련 확진, 1...\n",
              "1  [[이미지출처=연합뉴스], [아시아경제 오현길 기자] 21일 전국에 강풍을 동반한 ...  ...                             [소방 당국, 아시아 경제, 건물 지하]\n",
              "1  [[이미지출처=연합뉴스], [아시아경제 오현길 기자] 21일 전국에 강풍을 동반한 ...  ...                             [소방 당국, 아시아 경제, 건물 지하]\n",
              "1  [[이미지출처=연합뉴스], [아시아경제 오현길 기자] 21일 전국에 강풍을 동반한 ...  ...                             [소방 당국, 아시아 경제, 건물 지하]\n",
              "\n",
              "[5 rows x 3 columns]"
            ]
          },
          "metadata": {},
          "execution_count": 12
        }
      ]
    },
    {
      "cell_type": "code",
      "metadata": {
        "id": "KmYBGBXMoZUE",
        "colab": {
          "base_uri": "https://localhost:8080/",
          "height": 204
        },
        "outputId": "e2dc3b43-3973-4d40-8a9f-da342d6d17db"
      },
      "source": [
        "#창원 5구만 추출\n",
        "changwon = explode[explode['지역분류'].str.contains('마산회원구|의창구|성산구|마산합포구|진해구')]\n",
        "changwon.head()"
      ],
      "execution_count": null,
      "outputs": [
        {
          "output_type": "execute_result",
          "data": {
            "text/html": [
              "<div>\n",
              "<style scoped>\n",
              "    .dataframe tbody tr th:only-of-type {\n",
              "        vertical-align: middle;\n",
              "    }\n",
              "\n",
              "    .dataframe tbody tr th {\n",
              "        vertical-align: top;\n",
              "    }\n",
              "\n",
              "    .dataframe thead th {\n",
              "        text-align: right;\n",
              "    }\n",
              "</style>\n",
              "<table border=\"1\" class=\"dataframe\">\n",
              "  <thead>\n",
              "    <tr style=\"text-align: right;\">\n",
              "      <th></th>\n",
              "      <th>기사내용</th>\n",
              "      <th>지역분류</th>\n",
              "      <th>keyword</th>\n",
              "    </tr>\n",
              "  </thead>\n",
              "  <tbody>\n",
              "    <tr>\n",
              "      <th>1</th>\n",
              "      <td>[[이미지출처=연합뉴스], [아시아경제 오현길 기자] 21일 전국에 강풍을 동반한 ...</td>\n",
              "      <td>의창구</td>\n",
              "      <td>[소방 당국, 아시아 경제, 건물 지하]</td>\n",
              "    </tr>\n",
              "    <tr>\n",
              "      <th>3</th>\n",
              "      <td>[경남 양산 옹벽 붕괴 현장. [사진=경남소방본부 제공], [아시아경제 영남취재본부...</td>\n",
              "      <td>의창구</td>\n",
              "      <td>[선별 검사소, 임시 선별, 소방 당국, 운동장 상당, 호우 경보, 검사소 운영, ...</td>\n",
              "    </tr>\n",
              "    <tr>\n",
              "      <th>3</th>\n",
              "      <td>[경남 양산 옹벽 붕괴 현장. [사진=경남소방본부 제공], [아시아경제 영남취재본부...</td>\n",
              "      <td>성산구</td>\n",
              "      <td>[선별 검사소, 임시 선별, 소방 당국, 운동장 상당, 호우 경보, 검사소 운영, ...</td>\n",
              "    </tr>\n",
              "    <tr>\n",
              "      <th>6</th>\n",
              "      <td>[[아시아경제 영남취재본부 주철인 기자] 내연남의 딸 등 피해자들을 상습 폭행하는 ...</td>\n",
              "      <td>의창구</td>\n",
              "      <td>[아시아 경제, 내연 남, 작년 5월, 상습 폭행]</td>\n",
              "    </tr>\n",
              "    <tr>\n",
              "      <th>9</th>\n",
              "      <td>[[아시아경제 구채은 기자] 더불어민주당 유력 대권 주자인 이재명 경기도지사는 지난...</td>\n",
              "      <td>마산합포구</td>\n",
              "      <td>[6월 이천, 교 익, 황 교, 이천 화재, 현장 일정, 뒤 기자, 문제 삼]</td>\n",
              "    </tr>\n",
              "  </tbody>\n",
              "</table>\n",
              "</div>"
            ],
            "text/plain": [
              "                                                기사내용  ...                                            keyword\n",
              "1  [[이미지출처=연합뉴스], [아시아경제 오현길 기자] 21일 전국에 강풍을 동반한 ...  ...                             [소방 당국, 아시아 경제, 건물 지하]\n",
              "3  [경남 양산 옹벽 붕괴 현장. [사진=경남소방본부 제공], [아시아경제 영남취재본부...  ...  [선별 검사소, 임시 선별, 소방 당국, 운동장 상당, 호우 경보, 검사소 운영, ...\n",
              "3  [경남 양산 옹벽 붕괴 현장. [사진=경남소방본부 제공], [아시아경제 영남취재본부...  ...  [선별 검사소, 임시 선별, 소방 당국, 운동장 상당, 호우 경보, 검사소 운영, ...\n",
              "6  [[아시아경제 영남취재본부 주철인 기자] 내연남의 딸 등 피해자들을 상습 폭행하는 ...  ...                       [아시아 경제, 내연 남, 작년 5월, 상습 폭행]\n",
              "9  [[아시아경제 구채은 기자] 더불어민주당 유력 대권 주자인 이재명 경기도지사는 지난...  ...        [6월 이천, 교 익, 황 교, 이천 화재, 현장 일정, 뒤 기자, 문제 삼]\n",
              "\n",
              "[5 rows x 3 columns]"
            ]
          },
          "metadata": {},
          "execution_count": 13
        }
      ]
    },
    {
      "cell_type": "code",
      "metadata": {
        "id": "HZ5mDRpI9LXg"
      },
      "source": [
        "#의창구 top 5 키워드\n",
        "changwon_euichang = changwon[changwon['지역분류']=='의창구']\n",
        "changwon_euichang = changwon_euichang['keyword'].tolist()\n",
        "changwon_euichang_sum = sum(changwon_euichang, [])\n",
        "from collections import Counter\n",
        "result = Counter(changwon_euichang_sum)\n",
        "changwon_euichang_result = str(result.most_common(5))"
      ],
      "execution_count": null,
      "outputs": []
    },
    {
      "cell_type": "code",
      "metadata": {
        "id": "nj997gQi-kh5"
      },
      "source": [
        "#마산합포구 top 5 키워드\n",
        "changwon_masanhappo = changwon[changwon['지역분류']=='마산합포구']\n",
        "changwon_masanhappo = changwon_masanhappo['keyword'].tolist()\n",
        "changwon_masanhappo_sum = sum(changwon_masanhappo, [])\n",
        "from collections import Counter\n",
        "result = Counter(changwon_masanhappo_sum)\n",
        "changwon_masanhappo_result = str(result.most_common(5))"
      ],
      "execution_count": null,
      "outputs": []
    },
    {
      "cell_type": "code",
      "metadata": {
        "id": "pGVuLpjP-tf5"
      },
      "source": [
        "#마산회원구 top 5 키워드\n",
        "changwon_masanhoewon = changwon[changwon['지역분류']=='마산회원구']\n",
        "changwon_masanhoewon = changwon_masanhoewon['keyword'].tolist()\n",
        "changwon_masanhoewon_sum = sum(changwon_masanhoewon, [])\n",
        "from collections import Counter\n",
        "result = Counter(changwon_masanhoewon_sum)\n",
        "changwon_masanhoewon_result = str(result.most_common(5))"
      ],
      "execution_count": null,
      "outputs": []
    },
    {
      "cell_type": "code",
      "metadata": {
        "id": "l-A0BDC--8IW"
      },
      "source": [
        "#진해구 top 5 키워드\n",
        "changwon_jinhae = changwon[changwon['지역분류']=='진해구']\n",
        "changwon_jinhae = changwon_jinhae['keyword'].tolist()\n",
        "changwon_jinhae_sum = sum(changwon_jinhae, [])\n",
        "from collections import Counter\n",
        "result = Counter(changwon_jinhae_sum)\n",
        "changwon_jinhae_result = str(result.most_common(5))"
      ],
      "execution_count": null,
      "outputs": []
    },
    {
      "cell_type": "code",
      "metadata": {
        "id": "-P8Nv6lq_BhK"
      },
      "source": [
        "#성산구 top 5 키워드\n",
        "changwon_sungsan = changwon[changwon['지역분류']=='성산구']\n",
        "changwon_sungsan = changwon_sungsan['keyword'].tolist()\n",
        "changwon_sungsan_sum = sum(changwon_sungsan, [])\n",
        "from collections import Counter\n",
        "result = Counter(changwon_sungsan_sum)\n",
        "changwon_sungsan_result = str(result.most_common(5))"
      ],
      "execution_count": null,
      "outputs": []
    },
    {
      "cell_type": "code",
      "metadata": {
        "colab": {
          "base_uri": "https://localhost:8080/",
          "height": 204
        },
        "id": "jnssu9DBMQ0t",
        "outputId": "e7695fee-aa99-44f1-de84-3b02cd7f9220"
      },
      "source": [
        "#창원시 5구 지역분류, 키워드 데이터프레임\n",
        "changwon_result = pd.DataFrame([changwon_euichang_result,changwon_masanhappo_result,changwon_masanhoewon_result,changwon_jinhae_result,changwon_sungsan_result])\n",
        "changwon_result"
      ],
      "execution_count": null,
      "outputs": [
        {
          "output_type": "execute_result",
          "data": {
            "text/html": [
              "<div>\n",
              "<style scoped>\n",
              "    .dataframe tbody tr th:only-of-type {\n",
              "        vertical-align: middle;\n",
              "    }\n",
              "\n",
              "    .dataframe tbody tr th {\n",
              "        vertical-align: top;\n",
              "    }\n",
              "\n",
              "    .dataframe thead th {\n",
              "        text-align: right;\n",
              "    }\n",
              "</style>\n",
              "<table border=\"1\" class=\"dataframe\">\n",
              "  <thead>\n",
              "    <tr style=\"text-align: right;\">\n",
              "      <th></th>\n",
              "      <th>지역 분류</th>\n",
              "      <th>키워드</th>\n",
              "    </tr>\n",
              "  </thead>\n",
              "  <tbody>\n",
              "    <tr>\n",
              "      <th>0</th>\n",
              "      <td>창원시 의창구</td>\n",
              "      <td>[('아시아 경제', 4), ('소방 당국', 2), ('건물 지하', 1), ('...</td>\n",
              "    </tr>\n",
              "    <tr>\n",
              "      <th>1</th>\n",
              "      <td>창원시 마산합포구</td>\n",
              "      <td>[('교 익', 3), ('황 교', 3), ('아시아 경제', 2), ('물류 센...</td>\n",
              "    </tr>\n",
              "    <tr>\n",
              "      <th>2</th>\n",
              "      <td>창원시 마산회원구</td>\n",
              "      <td>[('관계 기관', 1), ('아시아 경제', 1), ('양하 이', 1), ('이...</td>\n",
              "    </tr>\n",
              "    <tr>\n",
              "      <th>3</th>\n",
              "      <td>창원시 진해구</td>\n",
              "      <td>[('잠수함 승조', 1), ('아시아 경제', 1), ('수중 탈출', 1), (...</td>\n",
              "    </tr>\n",
              "    <tr>\n",
              "      <th>4</th>\n",
              "      <td>창원시 성산구</td>\n",
              "      <td>[('공원 명칭', 2), ('선별 검사소', 1), ('임시 선별', 1), ('...</td>\n",
              "    </tr>\n",
              "  </tbody>\n",
              "</table>\n",
              "</div>"
            ],
            "text/plain": [
              "       지역 분류                                                키워드\n",
              "0    창원시 의창구  [('아시아 경제', 4), ('소방 당국', 2), ('건물 지하', 1), ('...\n",
              "1  창원시 마산합포구  [('교 익', 3), ('황 교', 3), ('아시아 경제', 2), ('물류 센...\n",
              "2  창원시 마산회원구  [('관계 기관', 1), ('아시아 경제', 1), ('양하 이', 1), ('이...\n",
              "3    창원시 진해구  [('잠수함 승조', 1), ('아시아 경제', 1), ('수중 탈출', 1), (...\n",
              "4    창원시 성산구  [('공원 명칭', 2), ('선별 검사소', 1), ('임시 선별', 1), ('..."
            ]
          },
          "metadata": {},
          "execution_count": 20
        }
      ]
    },
    {
      "cell_type": "code",
      "metadata": {
        "id": "rlf2yJF66ze8"
      },
      "source": [
        "changwon_result.to_csv('창원시키워드도출결과.csv',index=False)"
      ],
      "execution_count": null,
      "outputs": []
    }
  ]
}